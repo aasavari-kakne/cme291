{
 "cells": [
  {
   "cell_type": "markdown",
   "id": "e5253037",
   "metadata": {},
   "source": [
    "# Quantization of difference between 3D protein structures\n",
    "\n",
    "In this project, we focus on quantitative representation of difference between a pair of protein structures. \n",
    "\n",
    "### Prerequisites\n",
    "\n",
    "1. Mapping from isoforms(RNA) to proteins(Sequence) is a bijection.  \n",
    "\n",
    "2. Mapping from gene to isoform is one-to-many. \n",
    "\n",
    "3. Any two pair of isoforms transcribed by the same genome will have overlaps among sequences of their proteins. \n",
    "\n",
    "### What we need\n",
    "\n",
    "1. A map from gene -> isoforms -> proteins -> atoms \n",
    "\n",
    "2. A map from gene -> exon -> length of the exon (is this number of atoms?)\n",
    "\n",
    "### Algorithm for technique 1\n",
    "\n",
    "1. Given sequencing of two proteins (say P<sub>1</sub> and P<sub>2</sub>) which have originated from a single genome, say G.\n",
    "\n",
    "2. For each protein, say P<sup>(1)</sup>, we have a sequence of amino acids a<sup>(1)</sup><sub>1</sub>, a<sup>(1)</sup><sub>2</sub>, .... a<sup>(1)</sup><sub>n</sub> where n is the length of the protein.\n",
    "\n",
    "3. We predict structures of the proteins using alphafold2 such that P<sup>(1)</sup><sub>i</sub> are the co-ordinates of a<sup>(1)</sup><sub>i</sub>. \n",
    "\n",
    "4. Let us say that proteins P<sup>(1)</sup> and P<sup>(2)</sup> correspond to isoforms I<sup>(1)</sup> and I<sup>(2)</sup>. (Note that : I<sup>(1)</sup> and I<sup>(2)</sup> must be transcribed by the source genome G). \n",
    "\n",
    "5. We find the exons shared by I<sup>(1)</sup> and I<sup>(2)</sup>. Then by using the lengths of the exons i.e. number of amino acids in each exon, we find overlapping runs between P<sup>(1)</sup> and P<sup>(2)</sup>. \n",
    "\n",
    "6. Thus, we get k overlaps L<sub>1</sub>, L<sub>2</sub>, .... L<sub>k</sub> where each lap L<sub>i</sub> stores starting and ending indices of the overlaps in each protein. I.e. L<sub>i</sub> is represented as tuple of size 4 (i<sub>1</sub>, i<sub>2</sub>, j<sub>1</sub>, j<sub>2</sub>) such that i<sub>2</sub> - i<sub>1</sub> == j<sub>2</sub> - i<sub>1</sub> and a<sup>(1)</sup><sub>i<sub>1</sub> + x </sub> == a<sup>(2)</sup><sub>j<sub>1</sub> + x </sub> for x = 0, 1, ... j<sub>2</sub> - j<sub>1</sub>. \n",
    "\n",
    "8. Given an overlapping run for a protein, say a<sup>(1)</sup><sub>i<sub>1</sub></sub> to a<sup>(1)</sup><sub>i<sub>2</sub></sub>, we find distance between each pair of the amino acids to form a symmetric matrix D<sup>(1)</sup><sub>1</sub> such that D<sup>(1)</sup><sub>1</sub>[i][j] = ||a<sup>(1)</sup><sub>i</sub> - a<sup>(1)</sup><sub>j</sub>|| for i, j in {i<sub>1</sub>, .... i<sub>2</sub>}. \n",
    "\n",
    "9. Given all such matrices, say D<sup>(1)</sup><sub>1</sub>, D<sup>(1)</sup><sub>2</sub>, ...... D<sup>(1)</sup><sub>m</sub> for P<sub>1</sub> and D<sup>(2)</sup><sub>1</sub>, D<sup>(2)</sup><sub>2</sub>, ...... D<sup>(2)</sup><sub>m</sub> for P<sub>2</sub>, we find sum of norms of differences i.e. ||D<sup>(1)</sup><sub>i</sub> - D<sup>(2)</sup><sub>i</sub>||<sub>F</sub>. "
   ]
  },
  {
   "cell_type": "code",
   "execution_count": 1,
   "id": "5638fbc4",
   "metadata": {},
   "outputs": [],
   "source": [
    "from Bio import pairwise2, SeqIO\n",
    "from Bio.PDB import PDBParser\n",
    "from itertools import *\n",
    "import json\n",
    "import matplotlib.cm as cm\n",
    "import matplotlib.pyplot as plt\n",
    "import numpy as np\n",
    "from termcolor import colored\n",
    "from utils import *"
   ]
  },
  {
   "cell_type": "code",
   "execution_count": 2,
   "id": "b754b34e",
   "metadata": {},
   "outputs": [],
   "source": [
    "root = '/Users/aasavarikakne/Desktop/cme291/'\n",
    "\n",
    "protein1_path = root + 'prediction_PKM1/'\n",
    "protein2_path = root + 'prediction_PKM2/'"
   ]
  },
  {
   "cell_type": "code",
   "execution_count": 3,
   "id": "9d2d5c05",
   "metadata": {
    "scrolled": false
   },
   "outputs": [
    {
     "name": "stdout",
     "output_type": "stream",
     "text": [
      "Sequence 1 has 531 amino acids.\n",
      "Sequence 2 has 531 amino acids.\n"
     ]
    }
   ],
   "source": [
    "# step 1 : read protein sequences from local storage\n",
    "seq1 = str(SeqIO.read(protein1_path + 'PKM1.fasta', \"fasta\").seq)\n",
    "seq2 = str(SeqIO.read(protein2_path + 'PKM2.fasta', \"fasta\").seq)\n",
    "\n",
    "for i, seq in enumerate([seq1, seq2]):\n",
    "    print(\"Sequence {} has {} amino acids.\".format(i+1, len(seq)))"
   ]
  },
  {
   "cell_type": "code",
   "execution_count": 4,
   "id": "30108b73",
   "metadata": {},
   "outputs": [
    {
     "name": "stdout",
     "output_type": "stream",
     "text": [
      "Alignment starts at 0 and ends at 546.\n"
     ]
    }
   ],
   "source": [
    "# step 2 : get overlap using biopython\n",
    "alignment = max(pairwise2.align.globalxx(seq1, seq2))\n",
    "\n",
    "print(\"Alignment starts at {} and ends at {}.\".format(alignment.start, alignment.end))"
   ]
  },
  {
   "cell_type": "code",
   "execution_count": 5,
   "id": "8d8df1e0",
   "metadata": {
    "scrolled": false
   },
   "outputs": [
    {
     "name": "stdout",
     "output_type": "stream",
     "text": [
      "\u001b[34m0 : MSKPHSEAGTAFIQTQQLHAAMADTFLEHMCRLDIDSPPITARNTGIICT\u001b[0m\n",
      "\u001b[36m0 : MSKPHSEAGTAFIQTQQLHAAMADTFLEHMCRLDIDSPPITARNTGIICT\u001b[0m\n",
      "--------------------------------------------------------------------------------\n",
      "\u001b[34m1 : IGPASRSVETLKEMIKSGMNVARLNFSHGTHEYHAETIKNVRTATESFAS\u001b[0m\n",
      "\u001b[36m1 : IGPASRSVETLKEMIKSGMNVARLNFSHGTHEYHAETIKNVRTATESFAS\u001b[0m\n",
      "--------------------------------------------------------------------------------\n",
      "\u001b[34m2 : DPILYRPVAVALDTKGPEIRTGLIKGSGTAEVELKKGATLKITLDNAYME\u001b[0m\n",
      "\u001b[36m2 : DPILYRPVAVALDTKGPEIRTGLIKGSGTAEVELKKGATLKITLDNAYME\u001b[0m\n",
      "--------------------------------------------------------------------------------\n",
      "\u001b[34m3 : KCDENILWLDYKNICKVVEVGSKIYVDDGLISLQVKQKGADFLVTEVENG\u001b[0m\n",
      "\u001b[36m3 : KCDENILWLDYKNICKVVEVGSKIYVDDGLISLQVKQKGADFLVTEVENG\u001b[0m\n",
      "--------------------------------------------------------------------------------\n",
      "\u001b[34m4 : GSLGSKKGVNLPGAAVDLPAVSEKDIQDLKFGVEQDVDMVFASFIRKASD\u001b[0m\n",
      "\u001b[36m4 : GSLGSKKGVNLPGAAVDLPAVSEKDIQDLKFGVEQDVDMVFASFIRKASD\u001b[0m\n",
      "--------------------------------------------------------------------------------\n",
      "\u001b[34m5 : VHEVRKVLGEKGKNIKIISKIENHEGVRRFDEILEASDGIMVARGDLGIE\u001b[0m\n",
      "\u001b[36m5 : VHEVRKVLGEKGKNIKIISKIENHEGVRRFDEILEASDGIMVARGDLGIE\u001b[0m\n",
      "--------------------------------------------------------------------------------\n",
      "\u001b[34m6 : IPAEKVFLAQKMMIGRCNRAGKPVICATQMLESMIKKPRPTRAEGSDVAN\u001b[0m\n",
      "\u001b[36m6 : IPAEKVFLAQKMMIGRCNRAGKPVICATQMLESMIKKPRPTRAEGSDVAN\u001b[0m\n",
      "--------------------------------------------------------------------------------\n",
      "\u001b[34m7 : AVLDGADCIMLSGETAKGDYPLEAVRMQHLIAREAEAAMFHRKLFEELVR\u001b[0m\n",
      "\u001b[36m7 : AVLDGADCIMLSGETAKGDYPLEAVRMQHLIAREAEAAIYHLQLFEELRR\u001b[0m\n",
      "--------------------------------------------------------------------------------\n",
      "\u001b[34m8 : -ASSHS--T-DLM--EAM-AM-GS-VEASY-KCLAA---ALI-VLTE-SG\u001b[0m\n",
      "\u001b[36m8 : LA----PITSD--PTEA-TA-VG-AVEAS-FKC---CSGA-IIVLT-KSG\u001b[0m\n",
      "--------------------------------------------------------------------------------\n",
      "\u001b[34m9 : RSAHQVARYRPRAPIIAVTRNPQTARQAHLYRGIFPVLCKDPVQEAWAED\u001b[0m\n",
      "\u001b[36m9 : RSAHQVARYRPRAPIIAVTRNPQTARQAHLYRGIFPVLCKDPVQEAWAED\u001b[0m\n",
      "--------------------------------------------------------------------------------\n",
      "\u001b[34m10 : VDLRVNFAMNVGKARGFFKKGDVVIVLTGWRPGSGFTNTMRVVPVP\u001b[0m\n",
      "\u001b[36m10 : VDLRVNFAMNVGKARGFFKKGDVVIVLTGWRPGSGFTNTMRVVPVP\u001b[0m\n",
      "--------------------------------------------------------------------------------\n"
     ]
    }
   ],
   "source": [
    "# debugging\n",
    "x1 = alignment.seqA\n",
    "x2 = alignment.seqB\n",
    "s = alignment.start\n",
    "e = alignment.end\n",
    "\n",
    "for i in range(s, e, 50):\n",
    "    print(colored(\"{} : {}\".format(i//50, x1[i:i+50]), 'blue'))\n",
    "    print(colored(\"{} : {}\".format(i//50, x2[i:i+50]), 'cyan'))\n",
    "    print('-'*80)"
   ]
  },
  {
   "cell_type": "code",
   "execution_count": 6,
   "id": "b7f1a619",
   "metadata": {
    "scrolled": false
   },
   "outputs": [],
   "source": [
    "# step 3 : map alignment indices to sequence indices\n",
    "map1 = get_index_map(alignment.seqA)\n",
    "map2 = get_index_map(alignment.seqB)"
   ]
  },
  {
   "cell_type": "code",
   "execution_count": 7,
   "id": "8e5f8e0d",
   "metadata": {},
   "outputs": [],
   "source": [
    "# step 4 : group the aligned residues together \n",
    "overlaps = get_overlaps(alignment)"
   ]
  },
  {
   "cell_type": "code",
   "execution_count": 8,
   "id": "289226ef",
   "metadata": {},
   "outputs": [],
   "source": [
    "for s, e in overlaps:\n",
    "    a = seq1[map1[s] : map1[e] + 1]\n",
    "    b = seq2[map2[s] : map2[e] + 1]\n",
    "    length = e - s + 1\n",
    "    for j in range(length):\n",
    "        if a[j] != b[j]:\n",
    "            print(s + j)"
   ]
  },
  {
   "cell_type": "code",
   "execution_count": 9,
   "id": "31c45dca",
   "metadata": {},
   "outputs": [],
   "source": [
    "# step 5 : read output from alphafold, get positioning for each atom inside each residue\n",
    "parser = PDBParser(PERMISSIVE = True, QUIET = True) \n",
    "\n",
    "data1 = parser.get_structure(\"2fat\", protein1_path + \"selected_prediction.pdb\")\n",
    "data2 = parser.get_structure(\"2fat\", protein2_path + \"selected_prediction.pdb\")\n",
    "\n",
    "residues1 = get_residues(data1)\n",
    "residues2 = get_residues(data2)"
   ]
  },
  {
   "cell_type": "code",
   "execution_count": 15,
   "id": "135e74b9",
   "metadata": {},
   "outputs": [],
   "source": [
    "def get_positions_for_overlap(residues, start, end):\n",
    "    positions = []\n",
    "    for i in range(start, end + 1):\n",
    "        for atom in residues[i].get_atoms():\n",
    "            p = atom.get_vector().get_array()\n",
    "            positions.append(p) \n",
    "    positions = np.stack(positions, axis=0) if positions else None\n",
    "    return positions"
   ]
  },
  {
   "cell_type": "code",
   "execution_count": 31,
   "id": "37cee671",
   "metadata": {
    "scrolled": false
   },
   "outputs": [],
   "source": [
    "# step 6 : for each overlap, get the positioning all atoms in the overlap for each protein\n",
    "y = []\n",
    "x = []\n",
    "\n",
    "for s, e in overlaps:\n",
    "    # m amino acid \n",
    "    x.append(e - s + 1)\n",
    "    \n",
    "    p1 = get_position_for_overlap(residues1, map1[s], map1[e]) # n x 3\n",
    "    p2 = get_position_for_overlap(residues2, map2[s], map2[e]) # n x 3\n",
    "\n",
    "    D1 = get_dist_mat(p1) # D1[i, j] = || p1[i] - p1[j] || \n",
    "    D2 = get_dist_mat(p2)\n",
    "    n = p1.shape[0]\n",
    "\n",
    "    y.append(np.linalg.norm(D1 - D2))"
   ]
  },
  {
   "cell_type": "code",
   "execution_count": 32,
   "id": "be7a96a8",
   "metadata": {},
   "outputs": [
    {
     "data": {
      "text/plain": [
       "<matplotlib.collections.PathCollection at 0x7fa5434faaf0>"
      ]
     },
     "execution_count": 32,
     "metadata": {},
     "output_type": "execute_result"
    },
    {
     "data": {
      "image/png": "[encoded data removed]",
      "text/plain": [
       "<Figure size 432x288 with 1 Axes>"
      ]
     },
     "metadata": {
      "needs_background": "light"
     },
     "output_type": "display_data"
    }
   ],
   "source": [
    "import matplotlib.pyplot as plt\n",
    "plt.scatter(x, y)"
   ]
  },
  {
   "cell_type": "code",
   "execution_count": null,
   "id": "3687bd9b",
   "metadata": {},
   "outputs": [],
   "source": [
    "# what does it mean to have a different structure ?\n",
    "# if two proteins have similar structure, how different structures should they have?\n",
    "# can we label proteins to be used in supervised learning -> domains ?\n",
    "# If p1 and p2 are similar in structure, will they have same function?\n",
    "# mutations in the genome are harmful\n",
    "# hypothesis testing\n",
    "# significance doesn't imply biological significance\n",
    "# size effect -> how large n is \n",
    "\n",
    "\n",
    "# what is in the alphafold error file \n",
    "# sherlock \n",
    "# .gtf files -> code\n",
    "\n",
    "# permutation testing / bootstrap\n",
    "\n",
    "# paper that compare protein structures or functions\n",
    "# procrustes"
   ]
  }
 ],
 "metadata": {
  "kernelspec": {
   "display_name": "Python 3",
   "language": "python",
   "name": "python3"
  },
  "language_info": {
   "codemirror_mode": {
    "name": "ipython",
    "version": 3
   },
   "file_extension": ".py",
   "mimetype": "text/x-python",
   "name": "python",
   "nbconvert_exporter": "python",
   "pygments_lexer": "ipython3",
   "version": "3.8.8"
  }
 },
 "nbformat": 4,
 "nbformat_minor": 5
}
