{
 "cells": [
  {
   "cell_type": "code",
   "execution_count": null,
   "id": "86c898c1",
   "metadata": {},
   "outputs": [],
   "source": [
    "%load_ext autoreload\n",
    "%autoreload 2\n",
    "\n",
    "from itertools import combinations\n",
    "import pandas as pd\n",
    "import time\n",
    "from dataset import Dataset\n",
    "from metrics import *"
   ]
  },
  {
   "cell_type": "code",
   "execution_count": null,
   "id": "804cb0d7",
   "metadata": {},
   "outputs": [],
   "source": [
    "# read input data\n",
    "root = '/Users/aasavarikakne/Desktop/cme291/data/'\n",
    "dataset = Dataset(root)"
   ]
  },
  {
   "cell_type": "code",
   "execution_count": null,
   "id": "8a007857",
   "metadata": {},
   "outputs": [],
   "source": [
    "# placeholder data frame for results\n",
    "df = pd.DataFrame(columns = ['protein1','protein2', 'correct_alignment', \n",
    "                             'incorrect_alignment', 'overlap_distance', \n",
    "                             'procrustes_distance'])\n",
    "\n",
    "tic = time.time()\n",
    "# for each pair of proteins, find distance using both metrics\n",
    "for protein1, protein2 in combinations(dataset.proteins, 2):\n",
    "    data = {\n",
    "            'protein1' : protein1.name,\n",
    "            'protein2' : protein2.name,\n",
    "           }\n",
    "    overlap_metric(protein1, protein2, data)\n",
    "    procrustes_metric(protein1, protein2, data)\n",
    "    df = df.append(data, ignore_index=True)\n",
    "toc = time.time()\n",
    "\n",
    "print(\"Execution time for {} protein pairs = {} seconds.\".format(len(df), round(toc-tic, 2)))"
   ]
  },
  {
   "cell_type": "code",
   "execution_count": 4,
   "id": "ecd49830",
   "metadata": {},
   "outputs": [
    {
     "name": "stdout",
     "output_type": "stream",
     "text": [
      "The autoreload extension is already loaded. To reload it, use:\n",
      "  %reload_ext autoreload\n",
      "Execution time for 6 protein pairs = 5.7 seconds.\n"
     ]
    },
    {
     "data": {
      "text/html": [
       "<div>\n",
       "<style scoped>\n",
       "    .dataframe tbody tr th:only-of-type {\n",
       "        vertical-align: middle;\n",
       "    }\n",
       "\n",
       "    .dataframe tbody tr th {\n",
       "        vertical-align: top;\n",
       "    }\n",
       "\n",
       "    .dataframe thead th {\n",
       "        text-align: right;\n",
       "    }\n",
       "</style>\n",
       "<table border=\"1\" class=\"dataframe\">\n",
       "  <thead>\n",
       "    <tr style=\"text-align: right;\">\n",
       "      <th></th>\n",
       "      <th>protein1</th>\n",
       "      <th>protein2</th>\n",
       "      <th>correct_alignment</th>\n",
       "      <th>incorrect_alignment</th>\n",
       "      <th>overlap_distance</th>\n",
       "      <th>procrustes_distance</th>\n",
       "    </tr>\n",
       "  </thead>\n",
       "  <tbody>\n",
       "    <tr>\n",
       "      <th>0</th>\n",
       "      <td>pkm2</td>\n",
       "      <td>pkm1</td>\n",
       "      <td>511.0</td>\n",
       "      <td>20.0</td>\n",
       "      <td>8.63</td>\n",
       "      <td>7.78</td>\n",
       "    </tr>\n",
       "    <tr>\n",
       "      <th>1</th>\n",
       "      <td>pkm2</td>\n",
       "      <td>d133p53g</td>\n",
       "      <td>115.0</td>\n",
       "      <td>416.0</td>\n",
       "      <td>56.41</td>\n",
       "      <td>5.29</td>\n",
       "    </tr>\n",
       "    <tr>\n",
       "      <th>2</th>\n",
       "      <td>pkm2</td>\n",
       "      <td>p53</td>\n",
       "      <td>157.0</td>\n",
       "      <td>374.0</td>\n",
       "      <td>78.21</td>\n",
       "      <td>7.00</td>\n",
       "    </tr>\n",
       "    <tr>\n",
       "      <th>3</th>\n",
       "      <td>pkm1</td>\n",
       "      <td>d133p53g</td>\n",
       "      <td>113.0</td>\n",
       "      <td>418.0</td>\n",
       "      <td>55.56</td>\n",
       "      <td>4.66</td>\n",
       "    </tr>\n",
       "    <tr>\n",
       "      <th>4</th>\n",
       "      <td>pkm1</td>\n",
       "      <td>p53</td>\n",
       "      <td>157.0</td>\n",
       "      <td>374.0</td>\n",
       "      <td>79.51</td>\n",
       "      <td>7.32</td>\n",
       "    </tr>\n",
       "    <tr>\n",
       "      <th>5</th>\n",
       "      <td>d133p53g</td>\n",
       "      <td>p53</td>\n",
       "      <td>207.0</td>\n",
       "      <td>186.0</td>\n",
       "      <td>11.65</td>\n",
       "      <td>8.67</td>\n",
       "    </tr>\n",
       "  </tbody>\n",
       "</table>\n",
       "</div>"
      ],
      "text/plain": [
       "   protein1  protein2  correct_alignment  incorrect_alignment  \\\n",
       "0      pkm2      pkm1              511.0                 20.0   \n",
       "1      pkm2  d133p53g              115.0                416.0   \n",
       "2      pkm2       p53              157.0                374.0   \n",
       "3      pkm1  d133p53g              113.0                418.0   \n",
       "4      pkm1       p53              157.0                374.0   \n",
       "5  d133p53g       p53              207.0                186.0   \n",
       "\n",
       "   overlap_distance  procrustes_distance  \n",
       "0              8.63                 7.78  \n",
       "1             56.41                 5.29  \n",
       "2             78.21                 7.00  \n",
       "3             55.56                 4.66  \n",
       "4             79.51                 7.32  \n",
       "5             11.65                 8.67  "
      ]
     },
     "execution_count": 4,
     "metadata": {},
     "output_type": "execute_result"
    }
   ],
   "source": [
    "# write and inspect the results\n",
    "df.to_csv(root + 'results.csv', index=False)\n",
    "df"
   ]
  },
  {
   "cell_type": "code",
   "execution_count": null,
   "id": "81382bf0",
   "metadata": {},
   "outputs": [],
   "source": []
  }
 ],
 "metadata": {
  "kernelspec": {
   "display_name": "Python 3",
   "language": "python",
   "name": "python3"
  },
  "language_info": {
   "codemirror_mode": {
    "name": "ipython",
    "version": 3
   },
   "file_extension": ".py",
   "mimetype": "text/x-python",
   "name": "python",
   "nbconvert_exporter": "python",
   "pygments_lexer": "ipython3",
   "version": "3.8.8"
  }
 },
 "nbformat": 4,
 "nbformat_minor": 5
}
