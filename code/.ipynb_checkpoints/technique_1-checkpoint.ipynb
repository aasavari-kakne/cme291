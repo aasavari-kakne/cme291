{
 "cells": [
  {
   "cell_type": "markdown",
   "id": "e5253037",
   "metadata": {},
   "source": [
    "# Quantization of difference between 3D protein structures\n",
    "\n",
    "In this project, we focus on quantitative representation of difference between a pair of protein structures. \n",
    "\n",
    "### Prerequisites\n",
    "\n",
    "1. Mapping from isoforms to proteins is a bijection.\n",
    "\n",
    "2. Mapping from gene to isoform is one-to-many. \n",
    "\n",
    "3. Any two pair of isoforms transcribed by the same genome will have overlaps among sequences of their proteins. \n",
    "\n",
    "### What we need\n",
    "\n",
    "1. A map from gene -> isoforms -> proteins -> atoms \n",
    "\n",
    "2. A map from gene -> exon -> length of the exon (is this number of atoms?)\n",
    "\n",
    "### Algorithm for technique 1\n",
    "\n",
    "1. Given sequencing of two proteins (say P<sub>1</sub> and P<sub>2</sub>) which have originated from a single genome, say G.\n",
    "\n",
    "2. For each protein, say P<sup>(1)</sup>, we have a sequence of amino acids a<sup>(1)</sup><sub>1</sub>, a<sup>(1)</sup><sub>2</sub>, .... a<sup>(1)</sup><sub>n</sub> where n is the length of the protein.\n",
    "\n",
    "3. We predict structures of the proteins using alphafold2 such that P<sup>(1)</sup><sub>i</sub> are the co-ordinates of a<sup>(1)</sup><sub>i</sub>. \n",
    "\n",
    "4. Let us say that proteins P<sup>(1)</sup> and P<sup>(2)</sup> correspond to isoforms I<sup>(1)</sup> and I<sup>(2)</sup>. (Note that : I<sup>(1)</sup> and I<sup>(2)</sup> must be transcribed by the source genome G). \n",
    "\n",
    "5. We find the exons shared by I<sup>(1)</sup> and I<sup>(2)</sup>. Then by using the lengths of the exons i.e. number of amino acids in each exon, we find overlapping runs between P<sup>(1)</sup> and P<sup>(2)</sup>. \n",
    "\n",
    "6. Thus, we get k overlaps L<sub>1</sub>, L<sub>2</sub>, .... L<sub>k</sub> where each lap L<sub>i</sub> stores starting and ending indices of the overlaps in each protein. I.e. L<sub>i</sub> is represented as tuple of size 4 (i<sub>1</sub>, i<sub>2</sub>, j<sub>1</sub>, j<sub>2</sub>) such that i<sub>2</sub> - i<sub>1</sub> == j<sub>2</sub> - i<sub>1</sub> and a<sup>(1)</sup><sub>i<sub>1</sub> + x </sub> == a<sup>(2)</sup><sub>j<sub>1</sub> + x </sub> for x = 0, 1, ... j<sub>2</sub> - j<sub>1</sub>. \n",
    "\n",
    "8. Given an overlapping run for a protein, say a<sup>(1)</sup><sub>i<sub>1</sub></sub> to a<sup>(1)</sup><sub>i<sub>2</sub></sub>, we find distance between each pair of the amino acids to form a symmetric matrix D<sup>(1)</sup><sub>1</sub> such that D<sup>(1)</sup><sub>1</sub>[i][j] = ||a<sup>(1)</sup><sub>i</sub> - a<sup>(1)</sup><sub>j</sub>|| for i, j in {i<sub>1</sub>, .... i<sub>2</sub>}. \n",
    "\n",
    "9. Given all such matrices, say D<sup>(1)</sup><sub>1</sub>, D<sup>(1)</sup><sub>2</sub>, ...... D<sup>(1)</sup><sub>m</sub> for P<sub>1</sub> and D<sup>(2)</sup><sub>1</sub>, D<sup>(2)</sup><sub>2</sub>, ...... D<sup>(2)</sup><sub>m</sub> for P<sub>2</sub>, we find sum of norms of differences i.e. ||D<sup>(1)</sup><sub>i</sub> - D<sup>(2)</sup><sub>i</sub>||<sub>F</sub>. "
   ]
  },
  {
   "cell_type": "code",
   "execution_count": 1,
   "id": "5638fbc4",
   "metadata": {},
   "outputs": [],
   "source": [
    "from Bio.PDB import PDBParser\n",
    "import numpy as np"
   ]
  },
  {
   "cell_type": "code",
   "execution_count": 2,
   "id": "429a48cd",
   "metadata": {},
   "outputs": [],
   "source": [
    "parser = PDBParser(PERMISSIVE = True, QUIET = True) \n",
    "\n",
    "data = parser.get_structure(\"2fat\",\"/Users/aasavarikakne/Desktop/xplore/prediction/selected_prediction.pdb\")"
   ]
  },
  {
   "cell_type": "code",
   "execution_count": 3,
   "id": "15c6a192",
   "metadata": {},
   "outputs": [
    {
     "name": "stdout",
     "output_type": "stream",
     "text": [
      "name \n",
      "head \n",
      "idcode \n",
      "deposition_date 1909-01-08\n",
      "release_date 1909-01-08\n",
      "structure_method unknown\n",
      "resolution None\n",
      "structure_reference []\n",
      "journal_reference \n",
      "author \n",
      "compound {'1': {'misc': ''}}\n",
      "source {'1': {'misc': ''}}\n",
      "has_missing_residues False\n",
      "missing_residues []\n"
     ]
    }
   ],
   "source": [
    "for key in data.header.keys():\n",
    "    print(key, data.header[key])"
   ]
  },
  {
   "cell_type": "code",
   "execution_count": 4,
   "id": "9d2d5c05",
   "metadata": {
    "scrolled": false
   },
   "outputs": [],
   "source": [
    "positions = []\n",
    "\n",
    "for model in data.get_models():\n",
    "    chains = model.get_chains()\n",
    "    for chain in chains:\n",
    "        residues = chain.get_residues()\n",
    "        for residue in residues:\n",
    "            atoms = residue.get_atoms()\n",
    "            for atom in atoms:\n",
    "                p = atom.get_vector().get_array()\n",
    "                positions.append(p)"
   ]
  },
  {
   "cell_type": "code",
   "execution_count": 5,
   "id": "bf9422a3",
   "metadata": {},
   "outputs": [
    {
     "name": "stdout",
     "output_type": "stream",
     "text": [
      "(1070, 3)\n"
     ]
    }
   ],
   "source": [
    "positions = np.stack(positions, axis=0)\n",
    "print(positions.shape)"
   ]
  }
 ],
 "metadata": {
  "kernelspec": {
   "display_name": "Python 3",
   "language": "python",
   "name": "python3"
  },
  "language_info": {
   "codemirror_mode": {
    "name": "ipython",
    "version": 3
   },
   "file_extension": ".py",
   "mimetype": "text/x-python",
   "name": "python",
   "nbconvert_exporter": "python",
   "pygments_lexer": "ipython3",
   "version": "3.8.8"
  }
 },
 "nbformat": 4,
 "nbformat_minor": 5
}
